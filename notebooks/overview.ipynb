{
 "cells": [
  {
   "cell_type": "markdown",
   "id": "2f6e55f0",
   "metadata": {},
   "source": [
    "# Progress Report 1 - Overview\n",
    "\n",
    "Here's an example of what an annotated sentence looks like:\n",
    "\n",
    "```xml\n",
    "<sentence id=\"63444\" status=\"reviewed\" presentation-after=\" \" indirect-type=\"AcI\">\n",
    "    <token id=\"734889\" form=\"perfacile\" citation-part=\"1.2.2\" lemma=\"perfacilis\" part-of-speech=\"A-\"\n",
    "           morphology=\"-s---nap-i\" head-id=\"734890\" relation=\"xobj\" presentation-before=\" \" presentation-after=\" \">\n",
    "        <slash target-id=\"734898\" relation=\"xsub\" />\n",
    "    </token>\n",
    "    <token id=\"734890\" form=\"esse\" citation-part=\"1.2.2\" lemma=\"sum\" part-of-speech=\"V-\"\n",
    "           morphology=\"--pna----i\" head-id=\"854742\" relation=\"comp\" presentation-after=\", \" />\n",
    "    <token id=\"734891\" form=\"cum\" citation-part=\"1.2.2\" lemma=\"cum\" part-of-speech=\"G-\"\n",
    "           morphology=\"---------n\" head-id=\"734890\" relation=\"adv\" presentation-after=\" \" />\n",
    "    <token id=\"734892\" form=\"virtute\" citation-part=\"1.2.2\" lemma=\"virtus\" part-of-speech=\"Nb\"\n",
    "           morphology=\"-s---fb--i\" head-id=\"734894\" relation=\"obl\" information-status=\"info_unannotatable\"\n",
    "           presentation-after=\" \" />\n",
    "    <token id=\"734893\" form=\"omnibus\" citation-part=\"1.2.2\" lemma=\"omnis\" part-of-speech=\"Px\"\n",
    "           morphology=\"-p---mb--i\" head-id=\"734894\" relation=\"obl\" information-status=\"quant\"\n",
    "           presentation-after=\" \" />\n",
    "    <token id=\"1179200\" empty-token-sort=\"P\" citation-part=\"1.2.2\" head-id=\"734894\"\n",
    "           relation=\"sub\" antecedent-id=\"1179198\" information-status=\"old\" />\n",
    "    <token id=\"734894\" form=\"praestarent\" citation-part=\"1.2.2\" lemma=\"praesto\" part-of-speech=\"V-\"\n",
    "           morphology=\"3pisa----i\" head-id=\"734891\" relation=\"pred\" presentation-after=\", \" />\n",
    "    <token id=\"734895\" form=\"totius\" citation-part=\"1.2.2\" lemma=\"totus\" part-of-speech=\"A-\"\n",
    "           morphology=\"-s---ngp-i\" head-id=\"734896\" relation=\"atr\" presentation-after=\" \" />\n",
    "    <token id=\"734896\" form=\"Galliae\" citation-part=\"1.2.2\" lemma=\"Gallia\" part-of-speech=\"Ne\"\n",
    "           morphology=\"-s---fg--i\" head-id=\"734897\" relation=\"narg\"\n",
    "           antecedent-id=\"680720\" information-status=\"old\" presentation-after=\" \" />\n",
    "    <token id=\"734897\" form=\"imperio\" citation-part=\"1.2.2\" lemma=\"imperium\" part-of-speech=\"Nb\"\n",
    "           morphology=\"-s---nb--i\" head-id=\"734898\" relation=\"obl\" information-status=\"new\"\n",
    "           presentation-after=\" \" />\n",
    "    <token id=\"1179199\" empty-token-sort=\"P\" citation-part=\"1.2.2\" head-id=\"734898\"\n",
    "           relation=\"sub\" antecedent-id=\"1179200\" information-status=\"old\" />\n",
    "    <token id=\"734898\" form=\"potiri\" citation-part=\"1.2.2\" lemma=\"potior\" part-of-speech=\"V-\"\n",
    "           morphology=\"--pnp----i\" head-id=\"734890\" relation=\"comp\" presentation-after=\". \" />\n",
    "    <token id=\"854742\" empty-token-sort=\"V\" citation-part=\"1.2.2\" relation=\"pred\" />\n",
    "</sentence>\n",
    "```\n",
    "\n",
    "and the sentence annotated:\n",
    "\n",
    "> *perfacile esse, cum virtūte omnibus praestārent, tōtīus Galliae imperiō potīrī.*  \n",
    "> \\[saying\\] that it would be very easy, since they excelled all in valor, to acquire the supremacy of the whole of Gaul. -- *(W. A. McDevitte and W. S. Bohn)*\n",
    "\n",
    "What I added was the sentence-level attribute `indirect-type`, which encodes the type of indirect speech clause:\n",
    "\n",
    "* Accusative + infinitive: `\"AcI\"`\n",
    "* Introduced by *quod*: `\"quod\"`\n",
    "* Introduced by *quia*: `\"quia\"`\n",
    "* Introduced by *quoniam*: `\"quoniam\"`\n",
    "* Introduced by *quīn*: `\"quin\"`\n",
    "\n",
    "With the help of the `annotate.py` script, a good portion of the data has been collected and annotated, though likely some still remains. Let's take a look at what we have."
   ]
  },
  {
   "cell_type": "code",
   "execution_count": 1,
   "id": "0e9cf6b3",
   "metadata": {},
   "outputs": [],
   "source": [
    "import pandas as pd\n",
    "import xml.etree.ElementTree as et"
   ]
  },
  {
   "cell_type": "code",
   "execution_count": 2,
   "id": "b8678ab7",
   "metadata": {},
   "outputs": [],
   "source": [
    "file_names = ['caes-gal.xml', 'cic-att.xml', 'cic-off.xml', 'latin-nt.xml', 'pal-agr.xml', 'per-aeth.xml']\n",
    "file_names = list(map(lambda s: 'annotations/' + s, file_names))"
   ]
  },
  {
   "cell_type": "code",
   "execution_count": 3,
   "id": "7c4fb15f",
   "metadata": {},
   "outputs": [],
   "source": [
    "def get_text(sent):\n",
    "    text = ''\n",
    "    for tok in sent.iter('token'):\n",
    "        if tok.get('form') != None and tok.get('presentation-after') != None:\n",
    "            text += tok.get('form') + tok.get('presentation-after')\n",
    "    return text"
   ]
  },
  {
   "cell_type": "code",
   "execution_count": 15,
   "id": "bc1b9401",
   "metadata": {},
   "outputs": [
    {
     "name": "stdout",
     "output_type": "stream",
     "text": [
      "448\n",
      "1072\n",
      "1174\n",
      "2204\n",
      "2290\n",
      "2380\n"
     ]
    },
    {
     "data": {
      "text/html": [
       "<div>\n",
       "<style scoped>\n",
       "    .dataframe tbody tr th:only-of-type {\n",
       "        vertical-align: middle;\n",
       "    }\n",
       "\n",
       "    .dataframe tbody tr th {\n",
       "        vertical-align: top;\n",
       "    }\n",
       "\n",
       "    .dataframe thead th {\n",
       "        text-align: right;\n",
       "    }\n",
       "</style>\n",
       "<table border=\"1\" class=\"dataframe\">\n",
       "  <thead>\n",
       "    <tr style=\"text-align: right;\">\n",
       "      <th></th>\n",
       "      <th>Id</th>\n",
       "      <th>File</th>\n",
       "      <th>Type</th>\n",
       "      <th>Text</th>\n",
       "    </tr>\n",
       "  </thead>\n",
       "  <tbody>\n",
       "    <tr>\n",
       "      <th>0</th>\n",
       "      <td>63444</td>\n",
       "      <td>caes-gal.xml</td>\n",
       "      <td>AcI</td>\n",
       "      <td>perfacile esse, cum virtute omnibus praestaren...</td>\n",
       "    </tr>\n",
       "    <tr>\n",
       "      <th>1</th>\n",
       "      <td>52564</td>\n",
       "      <td>caes-gal.xml</td>\n",
       "      <td>AcI</td>\n",
       "      <td>Pro multitudine autem hominum et pro gloria be...</td>\n",
       "    </tr>\n",
       "    <tr>\n",
       "      <th>2</th>\n",
       "      <td>52566</td>\n",
       "      <td>caes-gal.xml</td>\n",
       "      <td>AcI</td>\n",
       "      <td>Ad eas res conficiendas biennium sibi satis es...</td>\n",
       "    </tr>\n",
       "    <tr>\n",
       "      <th>3</th>\n",
       "      <td>52572</td>\n",
       "      <td>caes-gal.xml</td>\n",
       "      <td>AcI</td>\n",
       "      <td>Perfacile factu esse illis probat conata perfi...</td>\n",
       "    </tr>\n",
       "    <tr>\n",
       "      <th>4</th>\n",
       "      <td>52574</td>\n",
       "      <td>caes-gal.xml</td>\n",
       "      <td>AcI</td>\n",
       "      <td>Hac oratione adducti inter se fidem et ius iur...</td>\n",
       "    </tr>\n",
       "    <tr>\n",
       "      <th>...</th>\n",
       "      <td>...</td>\n",
       "      <td>...</td>\n",
       "      <td>...</td>\n",
       "      <td>...</td>\n",
       "    </tr>\n",
       "    <tr>\n",
       "      <th>2375</th>\n",
       "      <td>58111</td>\n",
       "      <td>per-aeth.xml</td>\n",
       "      <td>AcI</td>\n",
       "      <td>Octaua enim septimana quadragesimarum, id est ...</td>\n",
       "    </tr>\n",
       "    <tr>\n",
       "      <th>2376</th>\n",
       "      <td>58117</td>\n",
       "      <td>per-aeth.xml</td>\n",
       "      <td>AcI</td>\n",
       "      <td>Et ne extimetis aliquid sine ratione fieri, cu...</td>\n",
       "    </tr>\n",
       "    <tr>\n",
       "      <th>2377</th>\n",
       "      <td>58123</td>\n",
       "      <td>per-aeth.xml</td>\n",
       "      <td>AcI</td>\n",
       "      <td>Vere enim ita misteria omnia absoluet, ut null...</td>\n",
       "    </tr>\n",
       "    <tr>\n",
       "      <th>2378</th>\n",
       "      <td>58126</td>\n",
       "      <td>per-aeth.xml</td>\n",
       "      <td>AcI</td>\n",
       "      <td>Lectiones etiam, quecumque in ecclesia leguntu...</td>\n",
       "    </tr>\n",
       "    <tr>\n",
       "      <th>2379</th>\n",
       "      <td>58137</td>\n",
       "      <td>per-aeth.xml</td>\n",
       "      <td>AcI</td>\n",
       "      <td>putat se maximum peccatum incurrisse, qui in h...</td>\n",
       "    </tr>\n",
       "  </tbody>\n",
       "</table>\n",
       "<p>2380 rows × 4 columns</p>\n",
       "</div>"
      ],
      "text/plain": [
       "         Id          File Type  \\\n",
       "0     63444  caes-gal.xml  AcI   \n",
       "1     52564  caes-gal.xml  AcI   \n",
       "2     52566  caes-gal.xml  AcI   \n",
       "3     52572  caes-gal.xml  AcI   \n",
       "4     52574  caes-gal.xml  AcI   \n",
       "...     ...           ...  ...   \n",
       "2375  58111  per-aeth.xml  AcI   \n",
       "2376  58117  per-aeth.xml  AcI   \n",
       "2377  58123  per-aeth.xml  AcI   \n",
       "2378  58126  per-aeth.xml  AcI   \n",
       "2379  58137  per-aeth.xml  AcI   \n",
       "\n",
       "                                                   Text  \n",
       "0     perfacile esse, cum virtute omnibus praestaren...  \n",
       "1     Pro multitudine autem hominum et pro gloria be...  \n",
       "2     Ad eas res conficiendas biennium sibi satis es...  \n",
       "3     Perfacile factu esse illis probat conata perfi...  \n",
       "4     Hac oratione adducti inter se fidem et ius iur...  \n",
       "...                                                 ...  \n",
       "2375  Octaua enim septimana quadragesimarum, id est ...  \n",
       "2376  Et ne extimetis aliquid sine ratione fieri, cu...  \n",
       "2377  Vere enim ita misteria omnia absoluet, ut null...  \n",
       "2378  Lectiones etiam, quecumque in ecclesia leguntu...  \n",
       "2379  putat se maximum peccatum incurrisse, qui in h...  \n",
       "\n",
       "[2380 rows x 4 columns]"
      ]
     },
     "execution_count": 15,
     "metadata": {},
     "output_type": "execute_result"
    }
   ],
   "source": [
    "sents = []\n",
    "unique_id = 0\n",
    "for file in file_names:\n",
    "    xml = et.parse(file)\n",
    "    for sent in xml.iter('sentence'):\n",
    "        sent.set('file', file[len('annotations/'):])\n",
    "        if sent.get('id') == None:\n",
    "            sent.set('id', 'U' + str(unique_id))\n",
    "            unique_id += 1\n",
    "        sents.append(sent)\n",
    "\n",
    "df = pd.DataFrame()\n",
    "df['Id'] = [sent.get('id') for sent in sents]\n",
    "df['File'] = [sent.get('file') for sent in sents]\n",
    "df['Type'] = [sent.get('indirect-type') for sent in sents]\n",
    "df['Text'] = [get_text(sent) for sent in sents]\n",
    "df"
   ]
  },
  {
   "cell_type": "code",
   "execution_count": 13,
   "id": "9096bab8",
   "metadata": {},
   "outputs": [
    {
     "data": {
      "text/plain": [
       "0"
      ]
     },
     "execution_count": 13,
     "metadata": {},
     "output_type": "execute_result"
    }
   ],
   "source": [
    "dd"
   ]
  },
  {
   "cell_type": "markdown",
   "id": "61789327",
   "metadata": {},
   "source": [
    "I plan on fleshing out this dataframe with columns for work and author."
   ]
  },
  {
   "cell_type": "code",
   "execution_count": 5,
   "id": "2f41e894",
   "metadata": {},
   "outputs": [
    {
     "data": {
      "text/plain": [
       "<AxesSubplot:>"
      ]
     },
     "execution_count": 5,
     "metadata": {},
     "output_type": "execute_result"
    },
    {
     "data": {
      "image/png": "[encoded data removed]",
      "text/plain": [
       "<Figure size 432x288 with 1 Axes>"
      ]
     },
     "metadata": {
      "needs_background": "light"
     },
     "output_type": "display_data"
    }
   ],
   "source": [
    "df['Type'].value_counts().plot.bar()"
   ]
  },
  {
   "cell_type": "markdown",
   "id": "1ddeffd2",
   "metadata": {},
   "source": [
    "Wow! We can already see there's a lot more accusative + infintive constructions than all other types combined! Let's compare two authors."
   ]
  },
  {
   "cell_type": "code",
   "execution_count": 6,
   "id": "5636a54f",
   "metadata": {},
   "outputs": [
    {
     "data": {
      "text/plain": [
       "<AxesSubplot:>"
      ]
     },
     "execution_count": 6,
     "metadata": {},
     "output_type": "execute_result"
    },
    {
     "data": {
      "image/png": "[encoded data removed]",
      "text/plain": [
       "<Figure size 432x288 with 1 Axes>"
      ]
     },
     "metadata": {
      "needs_background": "light"
     },
     "output_type": "display_data"
    }
   ],
   "source": [
    "df[df.File == 'caes-gal.xml']['Type'].value_counts().plot.bar()"
   ]
  },
  {
   "cell_type": "code",
   "execution_count": 7,
   "id": "8ac4c979",
   "metadata": {},
   "outputs": [
    {
     "data": {
      "text/plain": [
       "<AxesSubplot:>"
      ]
     },
     "execution_count": 7,
     "metadata": {},
     "output_type": "execute_result"
    },
    {
     "data": {
      "image/png": "[encoded data removed]",
      "text/plain": [
       "<Figure size 432x288 with 1 Axes>"
      ]
     },
     "metadata": {
      "needs_background": "light"
     },
     "output_type": "display_data"
    }
   ],
   "source": [
    "df[df.File == 'per-aeth.xml']['Type'].value_counts().plot.bar()"
   ]
  },
  {
   "cell_type": "markdown",
   "id": "2cfb8ece",
   "metadata": {},
   "source": [
    "There seems to be more use of subordinators - not enough to definitively conclude anything, though."
   ]
  },
  {
   "cell_type": "code",
   "execution_count": null,
   "id": "848dcf47",
   "metadata": {},
   "outputs": [],
   "source": []
  }
 ],
 "metadata": {
  "kernelspec": {
   "display_name": "Python 3 (ipykernel)",
   "language": "python",
   "name": "python3"
  },
  "language_info": {
   "codemirror_mode": {
    "name": "ipython",
    "version": 3
   },
   "file_extension": ".py",
   "mimetype": "text/x-python",
   "name": "python",
   "nbconvert_exporter": "python",
   "pygments_lexer": "ipython3",
   "version": "3.9.4"
  }
 },
 "nbformat": 4,
 "nbformat_minor": 5
}
